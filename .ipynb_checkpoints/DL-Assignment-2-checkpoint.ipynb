{
 "cells": [
  {
   "cell_type": "code",
   "execution_count": null,
   "id": "02594650-f569-434e-891b-1b1e9ec2678f",
   "metadata": {},
   "outputs": [],
   "source": [
    "\"\"\"\n",
    "Problem statement : Implement Feed Forward neural network with keras and tensorflow\n",
    "Objectives : \n",
    "            1 .Study of deep learning Packages: Tensorflow, Keras.\n",
    "            2. Perform following operations on given dataset\n",
    "                a. Import the necessary packages\n",
    "                b. Load the training and testing data (MNIST/CIFAR10)\n",
    "                c. Define the network architecture using Keras\n",
    "                d. Train the model using SGD\n",
    "                e. Evaluate the network\n",
    "                f. Plot the training loss and accuracy\n",
    "---------------------------------------------------------------------------------------------------------------------------------------------------------                \n",
    "Theory : \n",
    "        - Feed forward neural network : in which nodes does not form a cycle.\n",
    "        - It's opposite is RNN ( recurrent neural network ) \n",
    "        - here , information is only processed in one direction . \n",
    "        - Information might be passed through multiple hidden nodes but it never propagates in backward direction.\n",
    "\n",
    "        \n",
    "        - How does feed forward neural network works ?\n",
    "\n",
    "            # TERMINOLOGIES \n",
    "            \n",
    "            - Input layer: \n",
    "                This layer consists of the neurons that receive inputs and pass them on to the other layers. \n",
    "                The number of neurons in the input layer should be equal to the attributes or features in the dataset.\n",
    "                \n",
    "            - Output layer: The output layer is the predicted feature and depends on the type of model you’re building.\n",
    "            \n",
    "            - Hidden layer: In between the input and output layer, there are hidden layers based on the type of model. \n",
    "                            Hidden layers contain a vast number of neurons which apply transformations to the inputs before passing them. \n",
    "                            As the network is trained, the weights are updated to be more predictive. \n",
    "                            \n",
    "            - Neuron weights: Weights refer to the strength or amplitude of a connection between two neurons.\n",
    "                              Weights on inputs are like coefficients.\n",
    "                              \n",
    "            - Activation: An activation function is the mapping of summed weighted input to the output of the neuron. \n",
    "                          It is called an activation/transfer function because it governs the inception at which the neuron is activated and the strength of the output signal. \n",
    "                          \n",
    "            - Loss Function : a loss function quantifies how “good” or “bad” a given model is in classifying the input data.\n",
    "                              loss = y_{predicted} - y_{original}\n",
    "                              Different loss functions will return different errors for the same prediction, having a considerable effect on the performance of the model. \n",
    "                              \n",
    "            - Gradient descent : is the most popular optimization technique for feedforward neural networks. \n",
    "                                 The term “gradient” refers to the quantity change of output obtained from a neural network when the inputs change a little. \n",
    "                                 Technically, it measures the updated weights concerning the change in error. \n",
    "                                 The gradient can also be defined as the slope of a function. \n",
    "                                 The higher the angle, the steeper the slope and the faster a model can learn.\n",
    "                                 Ex: SGD \n",
    "                                 \n",
    "           - Backpropagation : \n",
    "                                 The predicted value of the network is compared to the expected output, and an error is calculated using a function.\n",
    "                                 This error is then propagated back within the whole network, one layer at a time, and the weights are updated according to the value that they contributed to the error.\n",
    "                                 \n",
    "           - Epoch : One round of updating the network for the entire training dataset is called an epoch.\n",
    "                     A network may be trained for tens, hundreds or many thousands of epochs.        \n",
    "\"\"\""
   ]
  },
  {
   "cell_type": "code",
   "execution_count": 5,
   "id": "2e193974-d9d5-4e13-96ca-b3e18db2736d",
   "metadata": {},
   "outputs": [
    {
     "name": "stdout",
     "output_type": "stream",
     "text": [
      "Requirement already satisfied: tensorflow in ./lib/python3.10/site-packages (2.14.0)\n",
      "Requirement already satisfied: tensorflow-macos==2.14.0 in ./lib/python3.10/site-packages (from tensorflow) (2.14.0)\n",
      "Requirement already satisfied: gast!=0.5.0,!=0.5.1,!=0.5.2,>=0.2.1 in ./lib/python3.10/site-packages (from tensorflow-macos==2.14.0->tensorflow) (0.5.4)\n",
      "Requirement already satisfied: flatbuffers>=23.5.26 in ./lib/python3.10/site-packages (from tensorflow-macos==2.14.0->tensorflow) (23.5.26)\n",
      "Requirement already satisfied: h5py>=2.9.0 in ./lib/python3.10/site-packages (from tensorflow-macos==2.14.0->tensorflow) (3.10.0)\n",
      "Requirement already satisfied: packaging in ./lib/python3.10/site-packages (from tensorflow-macos==2.14.0->tensorflow) (23.2)\n",
      "Requirement already satisfied: tensorflow-estimator<2.15,>=2.14.0 in ./lib/python3.10/site-packages (from tensorflow-macos==2.14.0->tensorflow) (2.14.0)\n",
      "Requirement already satisfied: setuptools in ./lib/python3.10/site-packages (from tensorflow-macos==2.14.0->tensorflow) (65.6.3)\n",
      "Requirement already satisfied: six>=1.12.0 in ./lib/python3.10/site-packages (from tensorflow-macos==2.14.0->tensorflow) (1.16.0)\n",
      "Requirement already satisfied: libclang>=13.0.0 in ./lib/python3.10/site-packages (from tensorflow-macos==2.14.0->tensorflow) (16.0.6)\n",
      "Requirement already satisfied: grpcio<2.0,>=1.24.3 in ./lib/python3.10/site-packages (from tensorflow-macos==2.14.0->tensorflow) (1.59.0)\n",
      "Requirement already satisfied: typing-extensions>=3.6.6 in ./lib/python3.10/site-packages (from tensorflow-macos==2.14.0->tensorflow) (4.8.0)\n",
      "Requirement already satisfied: astunparse>=1.6.0 in ./lib/python3.10/site-packages (from tensorflow-macos==2.14.0->tensorflow) (1.6.3)\n",
      "Requirement already satisfied: google-pasta>=0.1.1 in ./lib/python3.10/site-packages (from tensorflow-macos==2.14.0->tensorflow) (0.2.0)\n",
      "Requirement already satisfied: tensorflow-io-gcs-filesystem>=0.23.1 in ./lib/python3.10/site-packages (from tensorflow-macos==2.14.0->tensorflow) (0.34.0)\n",
      "Requirement already satisfied: tensorboard<2.15,>=2.14 in ./lib/python3.10/site-packages (from tensorflow-macos==2.14.0->tensorflow) (2.14.1)\n",
      "Requirement already satisfied: opt-einsum>=2.3.2 in ./lib/python3.10/site-packages (from tensorflow-macos==2.14.0->tensorflow) (3.3.0)\n",
      "Requirement already satisfied: protobuf!=4.21.0,!=4.21.1,!=4.21.2,!=4.21.3,!=4.21.4,!=4.21.5,<5.0.0dev,>=3.20.3 in ./lib/python3.10/site-packages (from tensorflow-macos==2.14.0->tensorflow) (4.24.4)\n",
      "Requirement already satisfied: numpy>=1.23.5 in ./lib/python3.10/site-packages (from tensorflow-macos==2.14.0->tensorflow) (1.26.1)\n",
      "Requirement already satisfied: keras<2.15,>=2.14.0 in ./lib/python3.10/site-packages (from tensorflow-macos==2.14.0->tensorflow) (2.14.0)\n",
      "Requirement already satisfied: wrapt<1.15,>=1.11.0 in ./lib/python3.10/site-packages (from tensorflow-macos==2.14.0->tensorflow) (1.14.1)\n",
      "Requirement already satisfied: ml-dtypes==0.2.0 in ./lib/python3.10/site-packages (from tensorflow-macos==2.14.0->tensorflow) (0.2.0)\n",
      "Requirement already satisfied: termcolor>=1.1.0 in ./lib/python3.10/site-packages (from tensorflow-macos==2.14.0->tensorflow) (2.3.0)\n",
      "Requirement already satisfied: absl-py>=1.0.0 in ./lib/python3.10/site-packages (from tensorflow-macos==2.14.0->tensorflow) (2.0.0)\n",
      "Requirement already satisfied: wheel<1.0,>=0.23.0 in ./lib/python3.10/site-packages (from astunparse>=1.6.0->tensorflow-macos==2.14.0->tensorflow) (0.41.2)\n",
      "Requirement already satisfied: google-auth<3,>=1.6.3 in ./lib/python3.10/site-packages (from tensorboard<2.15,>=2.14->tensorflow-macos==2.14.0->tensorflow) (2.23.3)\n",
      "Requirement already satisfied: werkzeug>=1.0.1 in ./lib/python3.10/site-packages (from tensorboard<2.15,>=2.14->tensorflow-macos==2.14.0->tensorflow) (3.0.0)\n",
      "Requirement already satisfied: markdown>=2.6.8 in ./lib/python3.10/site-packages (from tensorboard<2.15,>=2.14->tensorflow-macos==2.14.0->tensorflow) (3.5)\n",
      "Requirement already satisfied: tensorboard-data-server<0.8.0,>=0.7.0 in ./lib/python3.10/site-packages (from tensorboard<2.15,>=2.14->tensorflow-macos==2.14.0->tensorflow) (0.7.1)\n",
      "Requirement already satisfied: requests<3,>=2.21.0 in ./lib/python3.10/site-packages (from tensorboard<2.15,>=2.14->tensorflow-macos==2.14.0->tensorflow) (2.31.0)\n",
      "Requirement already satisfied: google-auth-oauthlib<1.1,>=0.5 in ./lib/python3.10/site-packages (from tensorboard<2.15,>=2.14->tensorflow-macos==2.14.0->tensorflow) (1.0.0)\n",
      "Requirement already satisfied: rsa<5,>=3.1.4 in ./lib/python3.10/site-packages (from google-auth<3,>=1.6.3->tensorboard<2.15,>=2.14->tensorflow-macos==2.14.0->tensorflow) (4.9)\n",
      "Requirement already satisfied: pyasn1-modules>=0.2.1 in ./lib/python3.10/site-packages (from google-auth<3,>=1.6.3->tensorboard<2.15,>=2.14->tensorflow-macos==2.14.0->tensorflow) (0.3.0)\n",
      "Requirement already satisfied: cachetools<6.0,>=2.0.0 in ./lib/python3.10/site-packages (from google-auth<3,>=1.6.3->tensorboard<2.15,>=2.14->tensorflow-macos==2.14.0->tensorflow) (5.3.1)\n",
      "Requirement already satisfied: requests-oauthlib>=0.7.0 in ./lib/python3.10/site-packages (from google-auth-oauthlib<1.1,>=0.5->tensorboard<2.15,>=2.14->tensorflow-macos==2.14.0->tensorflow) (1.3.1)\n",
      "Requirement already satisfied: certifi>=2017.4.17 in ./lib/python3.10/site-packages (from requests<3,>=2.21.0->tensorboard<2.15,>=2.14->tensorflow-macos==2.14.0->tensorflow) (2023.7.22)\n",
      "Requirement already satisfied: charset-normalizer<4,>=2 in ./lib/python3.10/site-packages (from requests<3,>=2.21.0->tensorboard<2.15,>=2.14->tensorflow-macos==2.14.0->tensorflow) (3.3.0)\n",
      "Requirement already satisfied: idna<4,>=2.5 in ./lib/python3.10/site-packages (from requests<3,>=2.21.0->tensorboard<2.15,>=2.14->tensorflow-macos==2.14.0->tensorflow) (3.4)\n",
      "Requirement already satisfied: urllib3<3,>=1.21.1 in ./lib/python3.10/site-packages (from requests<3,>=2.21.0->tensorboard<2.15,>=2.14->tensorflow-macos==2.14.0->tensorflow) (2.0.7)\n",
      "Requirement already satisfied: MarkupSafe>=2.1.1 in ./lib/python3.10/site-packages (from werkzeug>=1.0.1->tensorboard<2.15,>=2.14->tensorflow-macos==2.14.0->tensorflow) (2.1.3)\n",
      "Requirement already satisfied: pyasn1<0.6.0,>=0.4.6 in ./lib/python3.10/site-packages (from pyasn1-modules>=0.2.1->google-auth<3,>=1.6.3->tensorboard<2.15,>=2.14->tensorflow-macos==2.14.0->tensorflow) (0.5.0)\n",
      "Requirement already satisfied: oauthlib>=3.0.0 in ./lib/python3.10/site-packages (from requests-oauthlib>=0.7.0->google-auth-oauthlib<1.1,>=0.5->tensorboard<2.15,>=2.14->tensorflow-macos==2.14.0->tensorflow) (3.2.2)\n",
      "\n",
      "\u001b[1m[\u001b[0m\u001b[34;49mnotice\u001b[0m\u001b[1;39;49m]\u001b[0m\u001b[39;49m A new release of pip available: \u001b[0m\u001b[31;49m22.3.1\u001b[0m\u001b[39;49m -> \u001b[0m\u001b[32;49m23.3.1\u001b[0m\n",
      "\u001b[1m[\u001b[0m\u001b[34;49mnotice\u001b[0m\u001b[1;39;49m]\u001b[0m\u001b[39;49m To update, run: \u001b[0m\u001b[32;49mpip install --upgrade pip\u001b[0m\n"
     ]
    }
   ],
   "source": [
    "!pip3 install tensorflow"
   ]
  },
  {
   "cell_type": "code",
   "execution_count": 25,
   "id": "b2bd60fa-e2f1-4717-9831-c649cc9d05e7",
   "metadata": {},
   "outputs": [
    {
     "name": "stdout",
     "output_type": "stream",
     "text": [
      "Requirement already satisfied: keras in ./lib/python3.10/site-packages (2.14.0)\n",
      "\n",
      "\u001b[1m[\u001b[0m\u001b[34;49mnotice\u001b[0m\u001b[1;39;49m]\u001b[0m\u001b[39;49m A new release of pip available: \u001b[0m\u001b[31;49m22.3.1\u001b[0m\u001b[39;49m -> \u001b[0m\u001b[32;49m23.3.1\u001b[0m\n",
      "\u001b[1m[\u001b[0m\u001b[34;49mnotice\u001b[0m\u001b[1;39;49m]\u001b[0m\u001b[39;49m To update, run: \u001b[0m\u001b[32;49mpip install --upgrade pip\u001b[0m\n"
     ]
    }
   ],
   "source": [
    "!pip3 install keras"
   ]
  },
  {
   "cell_type": "code",
   "execution_count": 7,
   "id": "7a113190-b4e2-4f54-9b30-98b33025098b",
   "metadata": {},
   "outputs": [
    {
     "name": "stdout",
     "output_type": "stream",
     "text": [
      "Collecting matplotlib\n",
      "  Using cached matplotlib-3.8.0-cp310-cp310-macosx_11_0_arm64.whl (7.5 MB)\n",
      "Collecting cycler>=0.10\n",
      "  Downloading cycler-0.12.1-py3-none-any.whl (8.3 kB)\n",
      "Collecting kiwisolver>=1.0.1\n",
      "  Using cached kiwisolver-1.4.5-cp310-cp310-macosx_11_0_arm64.whl (66 kB)\n",
      "Collecting pillow>=6.2.0\n",
      "  Downloading Pillow-10.1.0-cp310-cp310-macosx_11_0_arm64.whl (3.3 MB)\n",
      "\u001b[2K     \u001b[38;2;114;156;31m━━━━━━━━━━━━━━━━━━━━━━━━━━━━━━━━━━━━━━━━\u001b[0m \u001b[32m3.3/3.3 MB\u001b[0m \u001b[31m2.0 MB/s\u001b[0m eta \u001b[36m0:00:00\u001b[0mm eta \u001b[36m0:00:01\u001b[0m0:01\u001b[0m:01\u001b[0m\n",
      "\u001b[?25hCollecting fonttools>=4.22.0\n",
      "  Downloading fonttools-4.43.1-cp310-cp310-macosx_10_9_universal2.whl (2.7 MB)\n",
      "\u001b[2K     \u001b[38;2;114;156;31m━━━━━━━━━━━━━━━━━━━━━━━━━━━━━━━━━━━━━━━━\u001b[0m \u001b[32m2.7/2.7 MB\u001b[0m \u001b[31m1.4 MB/s\u001b[0m eta \u001b[36m0:00:00\u001b[0m[36m0:00:01\u001b[0mm eta \u001b[36m0:00:01\u001b[0m\n",
      "\u001b[?25hRequirement already satisfied: numpy<2,>=1.21 in ./lib/python3.10/site-packages (from matplotlib) (1.26.1)\n",
      "Requirement already satisfied: packaging>=20.0 in ./lib/python3.10/site-packages (from matplotlib) (23.2)\n",
      "Requirement already satisfied: python-dateutil>=2.7 in ./lib/python3.10/site-packages (from matplotlib) (2.8.2)\n",
      "Collecting pyparsing>=2.3.1\n",
      "  Using cached pyparsing-3.1.1-py3-none-any.whl (103 kB)\n",
      "Collecting contourpy>=1.0.1\n",
      "  Using cached contourpy-1.1.1-cp310-cp310-macosx_11_0_arm64.whl (232 kB)\n",
      "Requirement already satisfied: six>=1.5 in ./lib/python3.10/site-packages (from python-dateutil>=2.7->matplotlib) (1.16.0)\n",
      "Installing collected packages: pyparsing, pillow, kiwisolver, fonttools, cycler, contourpy, matplotlib\n",
      "Successfully installed contourpy-1.1.1 cycler-0.12.1 fonttools-4.43.1 kiwisolver-1.4.5 matplotlib-3.8.0 pillow-10.1.0 pyparsing-3.1.1\n",
      "\n",
      "\u001b[1m[\u001b[0m\u001b[34;49mnotice\u001b[0m\u001b[1;39;49m]\u001b[0m\u001b[39;49m A new release of pip available: \u001b[0m\u001b[31;49m22.3.1\u001b[0m\u001b[39;49m -> \u001b[0m\u001b[32;49m23.3.1\u001b[0m\n",
      "\u001b[1m[\u001b[0m\u001b[34;49mnotice\u001b[0m\u001b[1;39;49m]\u001b[0m\u001b[39;49m To update, run: \u001b[0m\u001b[32;49mpip install --upgrade pip\u001b[0m\n"
     ]
    }
   ],
   "source": [
    "!pip3 install matplotlib"
   ]
  },
  {
   "cell_type": "code",
   "execution_count": 26,
   "id": "5a5b2099-a410-4a10-babc-7f40f1fdf267",
   "metadata": {},
   "outputs": [],
   "source": [
    "# step1: import all the pckges \n",
    "\n",
    "import tensorflow as tf \n",
    "from tensorflow import keras \n",
    "from keras.models import Sequential \n",
    "from keras.datasets import mnist\n",
    "import matplotlib.pyplot as plt \n",
    "import numpy as np \n",
    "import random \n"
   ]
  },
  {
   "cell_type": "code",
   "execution_count": 14,
   "id": "d5562f93-4046-4b78-b226-6606496cab42",
   "metadata": {},
   "outputs": [
    {
     "name": "stdout",
     "output_type": "stream",
     "text": [
      "loading dataset....\n",
      "successfully loaded dataset\n"
     ]
    }
   ],
   "source": [
    "# step2 : load the training and testing data from \"mnist data\"\n",
    "\n",
    "print(\"loading dataset....\")\n",
    "(x_train, y_train) , (x_test , y_test) = mnist.load_data()\n",
    "print(\"successfully loaded dataset\")\n"
   ]
  },
  {
   "cell_type": "code",
   "execution_count": 15,
   "id": "533fb4bb-a45b-4b9b-89b5-9d355ce6829b",
   "metadata": {},
   "outputs": [
    {
     "name": "stdout",
     "output_type": "stream",
     "text": [
      "converting into int to float ...\n"
     ]
    }
   ],
   "source": [
    "print(\"converting into int to float ...\")\n",
    "x_train=x_train/255\n",
    "x_test=x_test/255"
   ]
  },
  {
   "cell_type": "code",
   "execution_count": 23,
   "id": "111b3633-9f5d-4028-9fc1-b9031bc6c5f6",
   "metadata": {},
   "outputs": [
    {
     "name": "stdout",
     "output_type": "stream",
     "text": [
      "[[0.         0.         0.         0.         0.         0.\n",
      "  0.         0.         0.         0.         0.         0.\n",
      "  0.         0.         0.         0.         0.         0.\n",
      "  0.         0.         0.         0.         0.         0.\n",
      "  0.         0.         0.         0.        ]\n",
      " [0.         0.         0.         0.         0.         0.\n",
      "  0.         0.         0.         0.         0.         0.\n",
      "  0.         0.         0.         0.         0.         0.\n",
      "  0.         0.         0.         0.         0.         0.\n",
      "  0.         0.         0.         0.        ]\n",
      " [0.         0.         0.         0.         0.         0.\n",
      "  0.         0.         0.         0.         0.         0.\n",
      "  0.         0.         0.         0.         0.         0.\n",
      "  0.         0.         0.         0.         0.         0.\n",
      "  0.         0.         0.         0.        ]\n",
      " [0.         0.         0.         0.         0.         0.\n",
      "  0.         0.         0.         0.         0.         0.\n",
      "  0.         0.         0.         0.         0.         0.\n",
      "  0.         0.         0.         0.         0.         0.\n",
      "  0.         0.         0.         0.        ]\n",
      " [0.         0.         0.         0.         0.         0.\n",
      "  0.         0.         0.         0.         0.         0.\n",
      "  0.         0.         0.         0.         0.         0.\n",
      "  0.         0.         0.         0.         0.         0.\n",
      "  0.         0.         0.         0.        ]\n",
      " [0.         0.         0.         0.         0.         0.\n",
      "  0.         0.         0.         0.         0.         0.\n",
      "  0.01176471 0.07058824 0.07058824 0.07058824 0.49411765 0.53333333\n",
      "  0.68627451 0.10196078 0.65098039 1.         0.96862745 0.49803922\n",
      "  0.         0.         0.         0.        ]\n",
      " [0.         0.         0.         0.         0.         0.\n",
      "  0.         0.         0.11764706 0.14117647 0.36862745 0.60392157\n",
      "  0.66666667 0.99215686 0.99215686 0.99215686 0.99215686 0.99215686\n",
      "  0.88235294 0.6745098  0.99215686 0.94901961 0.76470588 0.25098039\n",
      "  0.         0.         0.         0.        ]\n",
      " [0.         0.         0.         0.         0.         0.\n",
      "  0.         0.19215686 0.93333333 0.99215686 0.99215686 0.99215686\n",
      "  0.99215686 0.99215686 0.99215686 0.99215686 0.99215686 0.98431373\n",
      "  0.36470588 0.32156863 0.32156863 0.21960784 0.15294118 0.\n",
      "  0.         0.         0.         0.        ]\n",
      " [0.         0.         0.         0.         0.         0.\n",
      "  0.         0.07058824 0.85882353 0.99215686 0.99215686 0.99215686\n",
      "  0.99215686 0.99215686 0.77647059 0.71372549 0.96862745 0.94509804\n",
      "  0.         0.         0.         0.         0.         0.\n",
      "  0.         0.         0.         0.        ]\n",
      " [0.         0.         0.         0.         0.         0.\n",
      "  0.         0.         0.31372549 0.61176471 0.41960784 0.99215686\n",
      "  0.99215686 0.80392157 0.04313725 0.         0.16862745 0.60392157\n",
      "  0.         0.         0.         0.         0.         0.\n",
      "  0.         0.         0.         0.        ]\n",
      " [0.         0.         0.         0.         0.         0.\n",
      "  0.         0.         0.         0.05490196 0.00392157 0.60392157\n",
      "  0.99215686 0.35294118 0.         0.         0.         0.\n",
      "  0.         0.         0.         0.         0.         0.\n",
      "  0.         0.         0.         0.        ]\n",
      " [0.         0.         0.         0.         0.         0.\n",
      "  0.         0.         0.         0.         0.         0.54509804\n",
      "  0.99215686 0.74509804 0.00784314 0.         0.         0.\n",
      "  0.         0.         0.         0.         0.         0.\n",
      "  0.         0.         0.         0.        ]\n",
      " [0.         0.         0.         0.         0.         0.\n",
      "  0.         0.         0.         0.         0.         0.04313725\n",
      "  0.74509804 0.99215686 0.2745098  0.         0.         0.\n",
      "  0.         0.         0.         0.         0.         0.\n",
      "  0.         0.         0.         0.        ]\n",
      " [0.         0.         0.         0.         0.         0.\n",
      "  0.         0.         0.         0.         0.         0.\n",
      "  0.1372549  0.94509804 0.88235294 0.62745098 0.42352941 0.00392157\n",
      "  0.         0.         0.         0.         0.         0.\n",
      "  0.         0.         0.         0.        ]\n",
      " [0.         0.         0.         0.         0.         0.\n",
      "  0.         0.         0.         0.         0.         0.\n",
      "  0.         0.31764706 0.94117647 0.99215686 0.99215686 0.46666667\n",
      "  0.09803922 0.         0.         0.         0.         0.\n",
      "  0.         0.         0.         0.        ]\n",
      " [0.         0.         0.         0.         0.         0.\n",
      "  0.         0.         0.         0.         0.         0.\n",
      "  0.         0.         0.17647059 0.72941176 0.99215686 0.99215686\n",
      "  0.58823529 0.10588235 0.         0.         0.         0.\n",
      "  0.         0.         0.         0.        ]\n",
      " [0.         0.         0.         0.         0.         0.\n",
      "  0.         0.         0.         0.         0.         0.\n",
      "  0.         0.         0.         0.0627451  0.36470588 0.98823529\n",
      "  0.99215686 0.73333333 0.         0.         0.         0.\n",
      "  0.         0.         0.         0.        ]\n",
      " [0.         0.         0.         0.         0.         0.\n",
      "  0.         0.         0.         0.         0.         0.\n",
      "  0.         0.         0.         0.         0.         0.97647059\n",
      "  0.99215686 0.97647059 0.25098039 0.         0.         0.\n",
      "  0.         0.         0.         0.        ]\n",
      " [0.         0.         0.         0.         0.         0.\n",
      "  0.         0.         0.         0.         0.         0.\n",
      "  0.         0.         0.18039216 0.50980392 0.71764706 0.99215686\n",
      "  0.99215686 0.81176471 0.00784314 0.         0.         0.\n",
      "  0.         0.         0.         0.        ]\n",
      " [0.         0.         0.         0.         0.         0.\n",
      "  0.         0.         0.         0.         0.         0.\n",
      "  0.15294118 0.58039216 0.89803922 0.99215686 0.99215686 0.99215686\n",
      "  0.98039216 0.71372549 0.         0.         0.         0.\n",
      "  0.         0.         0.         0.        ]\n",
      " [0.         0.         0.         0.         0.         0.\n",
      "  0.         0.         0.         0.         0.09411765 0.44705882\n",
      "  0.86666667 0.99215686 0.99215686 0.99215686 0.99215686 0.78823529\n",
      "  0.30588235 0.         0.         0.         0.         0.\n",
      "  0.         0.         0.         0.        ]\n",
      " [0.         0.         0.         0.         0.         0.\n",
      "  0.         0.         0.09019608 0.25882353 0.83529412 0.99215686\n",
      "  0.99215686 0.99215686 0.99215686 0.77647059 0.31764706 0.00784314\n",
      "  0.         0.         0.         0.         0.         0.\n",
      "  0.         0.         0.         0.        ]\n",
      " [0.         0.         0.         0.         0.         0.\n",
      "  0.07058824 0.67058824 0.85882353 0.99215686 0.99215686 0.99215686\n",
      "  0.99215686 0.76470588 0.31372549 0.03529412 0.         0.\n",
      "  0.         0.         0.         0.         0.         0.\n",
      "  0.         0.         0.         0.        ]\n",
      " [0.         0.         0.         0.         0.21568627 0.6745098\n",
      "  0.88627451 0.99215686 0.99215686 0.99215686 0.99215686 0.95686275\n",
      "  0.52156863 0.04313725 0.         0.         0.         0.\n",
      "  0.         0.         0.         0.         0.         0.\n",
      "  0.         0.         0.         0.        ]\n",
      " [0.         0.         0.         0.         0.53333333 0.99215686\n",
      "  0.99215686 0.99215686 0.83137255 0.52941176 0.51764706 0.0627451\n",
      "  0.         0.         0.         0.         0.         0.\n",
      "  0.         0.         0.         0.         0.         0.\n",
      "  0.         0.         0.         0.        ]\n",
      " [0.         0.         0.         0.         0.         0.\n",
      "  0.         0.         0.         0.         0.         0.\n",
      "  0.         0.         0.         0.         0.         0.\n",
      "  0.         0.         0.         0.         0.         0.\n",
      "  0.         0.         0.         0.        ]\n",
      " [0.         0.         0.         0.         0.         0.\n",
      "  0.         0.         0.         0.         0.         0.\n",
      "  0.         0.         0.         0.         0.         0.\n",
      "  0.         0.         0.         0.         0.         0.\n",
      "  0.         0.         0.         0.        ]\n",
      " [0.         0.         0.         0.         0.         0.\n",
      "  0.         0.         0.         0.         0.         0.\n",
      "  0.         0.         0.         0.         0.         0.\n",
      "  0.         0.         0.         0.         0.         0.\n",
      "  0.         0.         0.         0.        ]]\n",
      "dimension of each unit (28, 28)\n"
     ]
    }
   ],
   "source": [
    "# so each unit of image is of 28x28 matrix\n",
    "print(x_train[0])\n",
    "print(\"dimension of each unit {0}\".format(x_train[0].shape))"
   ]
  },
  {
   "cell_type": "code",
   "execution_count": 27,
   "id": "994a68b6-bbf8-449b-bfae-6179cd669907",
   "metadata": {},
   "outputs": [],
   "source": [
    "# we will be using Sequential() architecture \n",
    "model=keras.Sequential([\n",
    "    keras.layers.Flatten(input_shape=(28,28)),\n",
    "    keras.layers.Dense(128,activation='relu'),\n",
    "    keras.layers.Dense(10,activation='softmax')\n",
    "])"
   ]
  },
  {
   "cell_type": "code",
   "execution_count": 28,
   "id": "ade8c413-9c8c-4ed2-bdd7-43669a6da5fd",
   "metadata": {},
   "outputs": [
    {
     "name": "stdout",
     "output_type": "stream",
     "text": [
      "Model: \"sequential\"\n",
      "_________________________________________________________________\n",
      " Layer (type)                Output Shape              Param #   \n",
      "=================================================================\n",
      " flatten (Flatten)           (None, 784)               0         \n",
      "                                                                 \n",
      " dense (Dense)               (None, 128)               100480    \n",
      "                                                                 \n",
      " dense_1 (Dense)             (None, 10)                1290      \n",
      "                                                                 \n",
      "=================================================================\n",
      "Total params: 101770 (397.54 KB)\n",
      "Trainable params: 101770 (397.54 KB)\n",
      "Non-trainable params: 0 (0.00 Byte)\n",
      "_________________________________________________________________\n"
     ]
    }
   ],
   "source": [
    "model.summary()"
   ]
  },
  {
   "cell_type": "code",
   "execution_count": 29,
   "id": "cb38aecc-1fe1-4e08-9f78-3a3c45c5b9fa",
   "metadata": {},
   "outputs": [],
   "source": [
    "model.compile(optimizer='sgd',\n",
    "             loss=\"sparse_categorical_crossentropy\",\n",
    "             metrics=[\"accuracy\"])"
   ]
  },
  {
   "cell_type": "code",
   "execution_count": 30,
   "id": "33a4cb79-9ec0-4310-abb4-1d778c85b95a",
   "metadata": {},
   "outputs": [
    {
     "name": "stdout",
     "output_type": "stream",
     "text": [
      "Epoch 1/10\n",
      "1875/1875 [==============================] - 1s 528us/step - loss: 0.6364 - accuracy: 0.8382 - val_loss: 0.3516 - val_accuracy: 0.9045\n",
      "Epoch 2/10\n",
      "1875/1875 [==============================] - 1s 479us/step - loss: 0.3347 - accuracy: 0.9059 - val_loss: 0.2940 - val_accuracy: 0.9182\n",
      "Epoch 3/10\n",
      "1875/1875 [==============================] - 1s 500us/step - loss: 0.2871 - accuracy: 0.9189 - val_loss: 0.2577 - val_accuracy: 0.9281\n",
      "Epoch 4/10\n",
      "1875/1875 [==============================] - 1s 505us/step - loss: 0.2565 - accuracy: 0.9277 - val_loss: 0.2366 - val_accuracy: 0.9340\n",
      "Epoch 5/10\n",
      "1875/1875 [==============================] - 1s 497us/step - loss: 0.2337 - accuracy: 0.9346 - val_loss: 0.2184 - val_accuracy: 0.9376\n",
      "Epoch 6/10\n",
      "1875/1875 [==============================] - 1s 504us/step - loss: 0.2159 - accuracy: 0.9391 - val_loss: 0.2022 - val_accuracy: 0.9418\n",
      "Epoch 7/10\n",
      "1875/1875 [==============================] - 1s 582us/step - loss: 0.2003 - accuracy: 0.9438 - val_loss: 0.1916 - val_accuracy: 0.9438\n",
      "Epoch 8/10\n",
      "1875/1875 [==============================] - 1s 523us/step - loss: 0.1876 - accuracy: 0.9469 - val_loss: 0.1806 - val_accuracy: 0.9476\n",
      "Epoch 9/10\n",
      "1875/1875 [==============================] - 1s 497us/step - loss: 0.1763 - accuracy: 0.9506 - val_loss: 0.1704 - val_accuracy: 0.9515\n",
      "Epoch 10/10\n",
      "1875/1875 [==============================] - 1s 485us/step - loss: 0.1664 - accuracy: 0.9530 - val_loss: 0.1630 - val_accuracy: 0.9527\n"
     ]
    }
   ],
   "source": [
    "history=model.fit(x_train,y_train, validation_data=(x_test,y_test),epochs=10)"
   ]
  },
  {
   "cell_type": "code",
   "execution_count": 31,
   "id": "4ba8a432-911e-4814-ad73-2e0342cd7958",
   "metadata": {},
   "outputs": [
    {
     "name": "stdout",
     "output_type": "stream",
     "text": [
      "313/313 [==============================] - 0s 344us/step - loss: 0.1630 - accuracy: 0.9527\n",
      "Loss = 0.163\n",
      "Accuracy=0.953\n"
     ]
    }
   ],
   "source": [
    "test_loss, test_acc=model.evaluate(x_test, y_test) \n",
    "print(\"Loss = %.3f\"%test_loss) \n",
    "print(\"Accuracy=%.3f\"%test_acc) "
   ]
  },
  {
   "cell_type": "code",
   "execution_count": 55,
   "id": "3bc238f4-1258-466a-a2d7-fd68ec4c9ce3",
   "metadata": {},
   "outputs": [
    {
     "data": {
      "image/png": "[encoded data removed]",
      "text/plain": [
       "<Figure size 640x480 with 1 Axes>"
      ]
     },
     "metadata": {},
     "output_type": "display_data"
    },
    {
     "name": "stdout",
     "output_type": "stream",
     "text": [
      "=========>>>>> predicted value <<<==========\n",
      "313/313 [==============================] - 0s 315us/step\n",
      "[6.5687338e-05 1.6941542e-08 9.6589690e-01 8.2466397e-03 8.2477518e-06\n",
      " 2.2539114e-06 2.0130115e-06 7.7107179e-06 1.2304684e-02 1.3465897e-02]\n"
     ]
    }
   ],
   "source": [
    "# random number image \n",
    "n = random.randint(0,9999)\n",
    "plt.imshow(x_test[n]) \n",
    "plt.show() \n",
    "print(\"=========>>>>> predicted value <<<==========\")\n",
    "predicted_value = model.predict(x_test)\n",
    "print(predicted_value[n])\n"
   ]
  },
  {
   "cell_type": "code",
   "execution_count": 51,
   "id": "d4f33890-a1e2-4b81-bc67-6ad5b47cf27b",
   "metadata": {},
   "outputs": [
    {
     "data": {
      "image/png": "[encoded data removed]",
      "text/plain": [
       "<Figure size 640x480 with 1 Axes>"
      ]
     },
     "metadata": {},
     "output_type": "display_data"
    }
   ],
   "source": [
    "# plotting accuracy graph \n",
    "\n",
    "plt.plot(history.history['accuracy']) \n",
    "plt.plot(history.history['val_accuracy']) \n",
    "plt.title('model_accuracy') \n",
    "plt.ylabel('accuracy') \n",
    "plt.xlabel(\"epoch\") \n",
    "plt.legend(['Train','Validation'], loc='upper left') \n",
    "plt.show() "
   ]
  },
  {
   "cell_type": "code",
   "execution_count": 54,
   "id": "36723a78-e4da-40b3-8b60-19bb2cb2e1c0",
   "metadata": {},
   "outputs": [
    {
     "data": {
      "image/png": "[encoded data removed]",
      "text/plain": [
       "<Figure size 640x480 with 1 Axes>"
      ]
     },
     "metadata": {},
     "output_type": "display_data"
    }
   ],
   "source": [
    "# plotting loss graph \n",
    "plt.plot(history.history['loss']) \n",
    "plt.plot(history.history['val_loss']) \n",
    "plt.title('model_accuracy') \n",
    "plt.ylabel('accuracy') \n",
    "plt.xlabel(\"epoch\") \n",
    "plt.legend(['Train','Validation'], loc='upper left') \n",
    "plt.show() "
   ]
  },
  {
   "cell_type": "code",
   "execution_count": null,
   "id": "3197acdd-ef75-4dd9-969b-53ee25d7ad59",
   "metadata": {},
   "outputs": [],
   "source": []
  }
 ],
 "metadata": {
  "kernelspec": {
   "display_name": "Python 3 (ipykernel)",
   "language": "python",
   "name": "python3"
  },
  "language_info": {
   "codemirror_mode": {
    "name": "ipython",
    "version": 3
   },
   "file_extension": ".py",
   "mimetype": "text/x-python",
   "name": "python",
   "nbconvert_exporter": "python",
   "pygments_lexer": "ipython3",
   "version": "3.10.9"
  }
 },
 "nbformat": 4,
 "nbformat_minor": 5
}
