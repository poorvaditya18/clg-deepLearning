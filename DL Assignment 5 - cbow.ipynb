{
 "cells": [
  {
   "cell_type": "code",
   "execution_count": 9,
   "id": "b66a9832",
   "metadata": {},
   "outputs": [],
   "source": [
    "import pandas as pd\n",
    "import numpy as np\n",
    "import collections\n",
    "import re"
   ]
  },
  {
   "cell_type": "code",
   "execution_count": 10,
   "id": "ce815dd6",
   "metadata": {},
   "outputs": [],
   "source": [
    "doc1 = 'Game of Thrones is an amazing tv series!'\n",
    "doc2 = 'Game of Thrones is the best tv series!'\n",
    "doc3 = 'Game of Thrones is so great'"
   ]
  },
  {
   "cell_type": "code",
   "execution_count": 11,
   "id": "0b66570a",
   "metadata": {},
   "outputs": [],
   "source": [
    "l_doc1 = re.sub(r\"[^a-zA-Z0-9]\", \" \", doc1.lower()).split()\n",
    "l_doc2 = re.sub(r\"[^a-zA-Z0-9]\", \" \", doc2.lower()).split()\n",
    "l_doc3 = re.sub(r\"[^a-zA-Z0-9]\", \" \", doc3.lower()).split()"
   ]
  },
  {
   "cell_type": "code",
   "execution_count": 12,
   "id": "a92729c9",
   "metadata": {},
   "outputs": [
    {
     "data": {
      "text/plain": [
       "['game',\n",
       " 'of',\n",
       " 'thrones',\n",
       " 'is',\n",
       " 'an',\n",
       " 'amazing',\n",
       " 'tv',\n",
       " 'series',\n",
       " 'game',\n",
       " 'of',\n",
       " 'thrones',\n",
       " 'is',\n",
       " 'the',\n",
       " 'best',\n",
       " 'tv',\n",
       " 'series',\n",
       " 'game',\n",
       " 'of',\n",
       " 'thrones',\n",
       " 'is',\n",
       " 'so',\n",
       " 'great']"
      ]
     },
     "execution_count": 12,
     "metadata": {},
     "output_type": "execute_result"
    }
   ],
   "source": [
    "l = l_doc1\n",
    "l.extend(l_doc2)\n",
    "l.extend(l_doc3)\n",
    "l"
   ]
  },
  {
   "cell_type": "code",
   "execution_count": 13,
   "id": "a49a4c42",
   "metadata": {},
   "outputs": [],
   "source": [
    "wordset=set(l)"
   ]
  },
  {
   "cell_type": "code",
   "execution_count": 14,
   "id": "e98c5edb",
   "metadata": {},
   "outputs": [
    {
     "data": {
      "text/plain": [
       "{'amazing',\n",
       " 'an',\n",
       " 'best',\n",
       " 'game',\n",
       " 'great',\n",
       " 'is',\n",
       " 'of',\n",
       " 'series',\n",
       " 'so',\n",
       " 'the',\n",
       " 'thrones',\n",
       " 'tv'}"
      ]
     },
     "execution_count": 14,
     "metadata": {},
     "output_type": "execute_result"
    }
   ],
   "source": [
    "wordset"
   ]
  },
  {
   "cell_type": "code",
   "execution_count": 6,
   "id": "70fbbcda",
   "metadata": {},
   "outputs": [
    {
     "data": {
      "text/plain": [
       "['game', 'of', 'thrones', 'is', 'an', 'amazing', 'tv', 'series']"
      ]
     },
     "execution_count": 6,
     "metadata": {},
     "output_type": "execute_result"
    }
   ],
   "source": [
    "l_doc1"
   ]
  },
  {
   "cell_type": "code",
   "execution_count": 15,
   "id": "74eaa629",
   "metadata": {},
   "outputs": [],
   "source": [
    "def calculateBOW(wordset,l_doc):\n",
    "    tf_diz = dict.fromkeys(wordset,0)\n",
    "    for word in l_doc:\n",
    "        tf_diz[word]=l_doc.count(word)\n",
    "    return tf_diz"
   ]
  },
  {
   "cell_type": "code",
   "execution_count": 16,
   "id": "985469c9",
   "metadata": {},
   "outputs": [
    {
     "data": {
      "text/html": [
       "<div>\n",
       "<style scoped>\n",
       "    .dataframe tbody tr th:only-of-type {\n",
       "        vertical-align: middle;\n",
       "    }\n",
       "\n",
       "    .dataframe tbody tr th {\n",
       "        vertical-align: top;\n",
       "    }\n",
       "\n",
       "    .dataframe thead th {\n",
       "        text-align: right;\n",
       "    }\n",
       "</style>\n",
       "<table border=\"1\" class=\"dataframe\">\n",
       "  <thead>\n",
       "    <tr style=\"text-align: right;\">\n",
       "      <th></th>\n",
       "      <th>the</th>\n",
       "      <th>so</th>\n",
       "      <th>great</th>\n",
       "      <th>amazing</th>\n",
       "      <th>best</th>\n",
       "      <th>an</th>\n",
       "      <th>of</th>\n",
       "      <th>series</th>\n",
       "      <th>tv</th>\n",
       "      <th>game</th>\n",
       "      <th>is</th>\n",
       "      <th>thrones</th>\n",
       "    </tr>\n",
       "  </thead>\n",
       "  <tbody>\n",
       "    <tr>\n",
       "      <th>0</th>\n",
       "      <td>1</td>\n",
       "      <td>1</td>\n",
       "      <td>1</td>\n",
       "      <td>1</td>\n",
       "      <td>1</td>\n",
       "      <td>1</td>\n",
       "      <td>3</td>\n",
       "      <td>2</td>\n",
       "      <td>2</td>\n",
       "      <td>3</td>\n",
       "      <td>3</td>\n",
       "      <td>3</td>\n",
       "    </tr>\n",
       "    <tr>\n",
       "      <th>1</th>\n",
       "      <td>1</td>\n",
       "      <td>0</td>\n",
       "      <td>0</td>\n",
       "      <td>0</td>\n",
       "      <td>1</td>\n",
       "      <td>0</td>\n",
       "      <td>1</td>\n",
       "      <td>1</td>\n",
       "      <td>1</td>\n",
       "      <td>1</td>\n",
       "      <td>1</td>\n",
       "      <td>1</td>\n",
       "    </tr>\n",
       "    <tr>\n",
       "      <th>2</th>\n",
       "      <td>0</td>\n",
       "      <td>1</td>\n",
       "      <td>1</td>\n",
       "      <td>0</td>\n",
       "      <td>0</td>\n",
       "      <td>0</td>\n",
       "      <td>1</td>\n",
       "      <td>0</td>\n",
       "      <td>0</td>\n",
       "      <td>1</td>\n",
       "      <td>1</td>\n",
       "      <td>1</td>\n",
       "    </tr>\n",
       "  </tbody>\n",
       "</table>\n",
       "</div>"
      ],
      "text/plain": [
       "   the  so  great  amazing  best  an  of  series  tv  game  is  thrones\n",
       "0    1   1      1        1     1   1   3       2   2     3   3        3\n",
       "1    1   0      0        0     1   0   1       1   1     1   1        1\n",
       "2    0   1      1        0     0   0   1       0   0     1   1        1"
      ]
     },
     "execution_count": 16,
     "metadata": {},
     "output_type": "execute_result"
    }
   ],
   "source": [
    "bow1 = calculateBOW(wordset,l_doc1)\n",
    "bow2 = calculateBOW(wordset,l_doc2)\n",
    "bow3 = calculateBOW(wordset,l_doc3)\n",
    "df_bow = pd.DataFrame([bow1,bow2,bow3])\n",
    "df_bow.head()"
   ]
  },
  {
   "cell_type": "code",
   "execution_count": 21,
   "id": "0b20d57b",
   "metadata": {},
   "outputs": [],
   "source": [
    "from sklearn.feature_extraction.text import CountVectorizer\n",
    "vectorizer = CountVectorizer()"
   ]
  },
  {
   "cell_type": "code",
   "execution_count": 23,
   "id": "c35cd6ed",
   "metadata": {},
   "outputs": [
    {
     "data": {
      "text/html": [
       "<div>\n",
       "<style scoped>\n",
       "    .dataframe tbody tr th:only-of-type {\n",
       "        vertical-align: middle;\n",
       "    }\n",
       "\n",
       "    .dataframe tbody tr th {\n",
       "        vertical-align: top;\n",
       "    }\n",
       "\n",
       "    .dataframe thead th {\n",
       "        text-align: right;\n",
       "    }\n",
       "</style>\n",
       "<table border=\"1\" class=\"dataframe\">\n",
       "  <thead>\n",
       "    <tr style=\"text-align: right;\">\n",
       "      <th></th>\n",
       "      <th>amazing</th>\n",
       "      <th>an</th>\n",
       "      <th>best</th>\n",
       "      <th>game</th>\n",
       "      <th>great</th>\n",
       "      <th>is</th>\n",
       "      <th>of</th>\n",
       "      <th>series</th>\n",
       "      <th>so</th>\n",
       "      <th>the</th>\n",
       "      <th>thrones</th>\n",
       "      <th>tv</th>\n",
       "    </tr>\n",
       "  </thead>\n",
       "  <tbody>\n",
       "    <tr>\n",
       "      <th>0</th>\n",
       "      <td>1</td>\n",
       "      <td>1</td>\n",
       "      <td>0</td>\n",
       "      <td>1</td>\n",
       "      <td>0</td>\n",
       "      <td>1</td>\n",
       "      <td>1</td>\n",
       "      <td>1</td>\n",
       "      <td>0</td>\n",
       "      <td>0</td>\n",
       "      <td>1</td>\n",
       "      <td>1</td>\n",
       "    </tr>\n",
       "    <tr>\n",
       "      <th>1</th>\n",
       "      <td>0</td>\n",
       "      <td>0</td>\n",
       "      <td>1</td>\n",
       "      <td>1</td>\n",
       "      <td>0</td>\n",
       "      <td>1</td>\n",
       "      <td>1</td>\n",
       "      <td>1</td>\n",
       "      <td>0</td>\n",
       "      <td>1</td>\n",
       "      <td>1</td>\n",
       "      <td>1</td>\n",
       "    </tr>\n",
       "    <tr>\n",
       "      <th>2</th>\n",
       "      <td>0</td>\n",
       "      <td>0</td>\n",
       "      <td>0</td>\n",
       "      <td>1</td>\n",
       "      <td>1</td>\n",
       "      <td>1</td>\n",
       "      <td>1</td>\n",
       "      <td>0</td>\n",
       "      <td>1</td>\n",
       "      <td>0</td>\n",
       "      <td>1</td>\n",
       "      <td>0</td>\n",
       "    </tr>\n",
       "  </tbody>\n",
       "</table>\n",
       "</div>"
      ],
      "text/plain": [
       "   amazing  an  best  game  great  is  of  series  so  the  thrones  tv\n",
       "0        1   1     0     1      0   1   1       1   0    0        1   1\n",
       "1        0   0     1     1      0   1   1       1   0    1        1   1\n",
       "2        0   0     0     1      1   1   1       0   1    0        1   0"
      ]
     },
     "execution_count": 23,
     "metadata": {},
     "output_type": "execute_result"
    }
   ],
   "source": [
    "X = vectorizer.fit_transform([doc1,doc2,doc3])\n",
    "df_bow_sklearn = pd.DataFrame(X.toarray(),columns=vectorizer.get_feature_names_out())\n",
    "df_bow_sklearn.head()"
   ]
  },
  {
   "cell_type": "code",
   "execution_count": 24,
   "id": "64284938",
   "metadata": {},
   "outputs": [
    {
     "name": "stdout",
     "output_type": "stream",
     "text": [
      "['amazing' 'an' 'best' 'game' 'great' 'is' 'of' 'series' 'so' 'the'\n",
      " 'thrones' 'tv']\n"
     ]
    }
   ],
   "source": [
    "print(vectorizer.get_feature_names_out())"
   ]
  },
  {
   "cell_type": "code",
   "execution_count": 27,
   "id": "15f25082",
   "metadata": {},
   "outputs": [
    {
     "name": "stderr",
     "output_type": "stream",
     "text": [
      "[nltk_data] Downloading package punkt to\n",
      "[nltk_data]     C:\\Users\\JOYCE\\AppData\\Roaming\\nltk_data...\n",
      "[nltk_data]   Unzipping tokenizers\\punkt.zip.\n"
     ]
    }
   ],
   "source": [
    "# Python3 code for preprocessing text \n",
    "import nltk \n",
    "nltk.download('punkt')\n",
    "import re \n",
    "import numpy as np \n",
    "\n",
    "# execute the text here as : \n",
    "text = \"\"\" 'Game of Thrones is an amazing tv series!'\n",
    "'Game of Thrones is the best tv series!'\n",
    "'Game of Thrones is so great'\n",
    " \n",
    " \"\"\" \n",
    "dataset = nltk.sent_tokenize(text) \n",
    "for i in range(len(dataset)): \n",
    "\tdataset[i] = dataset[i].lower() \n",
    "\tdataset[i] = re.sub(r'\\W', ' ', dataset[i]) \n",
    "\tdataset[i] = re.sub(r'\\s+', ' ', dataset[i]) \n"
   ]
  },
  {
   "cell_type": "code",
   "execution_count": 28,
   "id": "48cf4984",
   "metadata": {},
   "outputs": [
    {
     "name": "stdout",
     "output_type": "stream",
     "text": [
      "[' game of thrones is an amazing tv series ', ' game of thrones is the best tv series ', ' game of thrones is so great ']\n"
     ]
    }
   ],
   "source": [
    "print(dataset)"
   ]
  },
  {
   "cell_type": "code",
   "execution_count": 29,
   "id": "7a0bf35c",
   "metadata": {},
   "outputs": [],
   "source": [
    "# Creating the Bag of Words model \n",
    "word2count = {} \n",
    "for data in dataset: \n",
    "    words = nltk.word_tokenize(data) \n",
    "    for word in words: \n",
    "        if word not in word2count.keys(): \n",
    "            word2count[word] = 1\n",
    "        else: \n",
    "            word2count[word] += 1"
   ]
  },
  {
   "cell_type": "code",
   "execution_count": 30,
   "id": "ba8937e8",
   "metadata": {},
   "outputs": [
    {
     "data": {
      "text/plain": [
       "{'game': 3,\n",
       " 'of': 3,\n",
       " 'thrones': 3,\n",
       " 'is': 3,\n",
       " 'an': 1,\n",
       " 'amazing': 1,\n",
       " 'tv': 2,\n",
       " 'series': 2,\n",
       " 'the': 1,\n",
       " 'best': 1,\n",
       " 'so': 1,\n",
       " 'great': 1}"
      ]
     },
     "execution_count": 30,
     "metadata": {},
     "output_type": "execute_result"
    }
   ],
   "source": [
    "word2count"
   ]
  },
  {
   "cell_type": "code",
   "execution_count": 31,
   "id": "57998020",
   "metadata": {},
   "outputs": [
    {
     "data": {
      "text/plain": [
       "['game', 'of', 'thrones', 'is', 'so', 'great']"
      ]
     },
     "execution_count": 31,
     "metadata": {},
     "output_type": "execute_result"
    }
   ],
   "source": [
    "words"
   ]
  },
  {
   "cell_type": "code",
   "execution_count": 32,
   "id": "dd6f48e9",
   "metadata": {},
   "outputs": [
    {
     "data": {
      "text/plain": [
       "6"
      ]
     },
     "execution_count": 32,
     "metadata": {},
     "output_type": "execute_result"
    }
   ],
   "source": [
    "len(words)"
   ]
  },
  {
   "cell_type": "code",
   "execution_count": 33,
   "id": "7327ffb0",
   "metadata": {},
   "outputs": [],
   "source": [
    "vocab_size = len(wordset)\n",
    "embed_dim = 10\n",
    "context_size = 4"
   ]
  },
  {
   "cell_type": "code",
   "execution_count": 34,
   "id": "22d6f977",
   "metadata": {},
   "outputs": [],
   "source": [
    "word_to_ix = {word: i for i, word in enumerate(wordset)}\n",
    "ix_to_word = {i: word for i, word in enumerate(wordset)}"
   ]
  },
  {
   "cell_type": "code",
   "execution_count": 35,
   "id": "837c7506",
   "metadata": {},
   "outputs": [
    {
     "data": {
      "text/plain": [
       "{'the': 0,\n",
       " 'so': 1,\n",
       " 'great': 2,\n",
       " 'amazing': 3,\n",
       " 'best': 4,\n",
       " 'an': 5,\n",
       " 'of': 6,\n",
       " 'series': 7,\n",
       " 'tv': 8,\n",
       " 'game': 9,\n",
       " 'is': 10,\n",
       " 'thrones': 11}"
      ]
     },
     "execution_count": 35,
     "metadata": {},
     "output_type": "execute_result"
    }
   ],
   "source": [
    "word_to_ix"
   ]
  },
  {
   "cell_type": "code",
   "execution_count": 36,
   "id": "8b48500f",
   "metadata": {},
   "outputs": [
    {
     "data": {
      "text/plain": [
       "{0: 'the',\n",
       " 1: 'so',\n",
       " 2: 'great',\n",
       " 3: 'amazing',\n",
       " 4: 'best',\n",
       " 5: 'an',\n",
       " 6: 'of',\n",
       " 7: 'series',\n",
       " 8: 'tv',\n",
       " 9: 'game',\n",
       " 10: 'is',\n",
       " 11: 'thrones'}"
      ]
     },
     "execution_count": 36,
     "metadata": {},
     "output_type": "execute_result"
    }
   ],
   "source": [
    "ix_to_word"
   ]
  },
  {
   "cell_type": "code",
   "execution_count": 37,
   "id": "208374d3",
   "metadata": {},
   "outputs": [
    {
     "name": "stdout",
     "output_type": "stream",
     "text": [
      "[(['game', 'of', 'is', 'so'], 'thrones'), (['of', 'thrones', 'so', 'great'], 'is')]\n"
     ]
    }
   ],
   "source": [
    "data = []\n",
    "for i in range(2, len(words) - 2):\n",
    "    context = [words[i - 2], words[i - 1], words[i + 1], words[i + 2]]\n",
    "    target = words[i]\n",
    "    data.append((context, target))\n",
    "print(data[:5])"
   ]
  },
  {
   "cell_type": "code",
   "execution_count": 38,
   "id": "4bf59daa",
   "metadata": {},
   "outputs": [],
   "source": [
    "embeddings =  np.random.random_sample((vocab_size, embed_dim))"
   ]
  },
  {
   "cell_type": "code",
   "execution_count": 39,
   "id": "68eb6ebf",
   "metadata": {},
   "outputs": [
    {
     "data": {
      "text/plain": [
       "array([[0.71903924, 0.72482244, 0.01171397, 0.27372177, 0.83809528,\n",
       "        0.83990067, 0.57771062, 0.04555815, 0.77082474, 0.66942896],\n",
       "       [0.83937223, 0.45335869, 0.48808404, 0.14534755, 0.41532881,\n",
       "        0.078775  , 0.89861751, 0.49719623, 0.23759965, 0.47042106],\n",
       "       [0.04826775, 0.22632192, 0.42684433, 0.68712054, 0.54822186,\n",
       "        0.06407352, 0.36257156, 0.31069897, 0.79281326, 0.42420039],\n",
       "       [0.05480781, 0.46432819, 0.85304149, 0.31689858, 0.84211568,\n",
       "        0.76193283, 0.14879105, 0.28017965, 0.05827367, 0.62747548],\n",
       "       [0.14876203, 0.8698643 , 0.5072883 , 0.1840728 , 0.84303021,\n",
       "        0.90827732, 0.54618519, 0.38576892, 0.94120674, 0.75721071],\n",
       "       [0.82093567, 0.21190834, 0.78738052, 0.13485141, 0.21628517,\n",
       "        0.07488491, 0.08920558, 0.35552133, 0.41155316, 0.69035628],\n",
       "       [0.19886852, 0.15599375, 0.59379838, 0.87663148, 0.67726472,\n",
       "        0.23555791, 0.62691494, 0.21869411, 0.33519399, 0.40353301],\n",
       "       [0.38046958, 0.64069087, 0.77836743, 0.8642074 , 0.99275568,\n",
       "        0.38769067, 0.70106596, 0.00773723, 0.42692757, 0.85495312],\n",
       "       [0.54862123, 0.22175452, 0.6252519 , 0.5569395 , 0.01272612,\n",
       "        0.29354001, 0.96076962, 0.90275375, 0.13573738, 0.93947378],\n",
       "       [0.40714016, 0.78958817, 0.61539185, 0.17255366, 0.98170278,\n",
       "        0.20087405, 0.15277866, 0.29286216, 0.87807968, 0.32325681],\n",
       "       [0.30301254, 0.55944751, 0.64359321, 0.0281317 , 0.13340288,\n",
       "        0.18123386, 0.44366133, 0.47641457, 0.66457705, 0.35625235],\n",
       "       [0.29555162, 0.08360898, 0.7857835 , 0.20393121, 0.89598561,\n",
       "        0.55237821, 0.64390413, 0.12232621, 0.42582886, 0.07324211]])"
      ]
     },
     "execution_count": 39,
     "metadata": {},
     "output_type": "execute_result"
    }
   ],
   "source": [
    "embeddings"
   ]
  },
  {
   "cell_type": "code",
   "execution_count": 40,
   "id": "117edeca",
   "metadata": {},
   "outputs": [],
   "source": [
    "def linear(m, theta):\n",
    "    w = theta\n",
    "    return m.dot(w)"
   ]
  },
  {
   "cell_type": "code",
   "execution_count": 41,
   "id": "9b7c5921",
   "metadata": {},
   "outputs": [],
   "source": [
    "def log_softmax(x):\n",
    "    e_x = np.exp(x - np.max(x))\n",
    "    return np.log(e_x / e_x.sum())\n",
    "def NLLLoss(logs, targets):\n",
    "    out = logs[range(len(targets)), targets]\n",
    "    return -out.sum()/len(out)"
   ]
  },
  {
   "cell_type": "code",
   "execution_count": 42,
   "id": "dd2dbfa7",
   "metadata": {},
   "outputs": [],
   "source": [
    "import tensorflow as tf\n",
    "import keras.backend as k\n",
    "from keras.models import Sequential\n",
    "from keras.layers import Dense, Embedding, Lambda"
   ]
  },
  {
   "cell_type": "code",
   "execution_count": 43,
   "id": "1ad3bf04",
   "metadata": {},
   "outputs": [],
   "source": [
    "def log_softmax_crossentropy_with_logits(logits,target):\n",
    "\n",
    "    out = np.zeros_like(logits)\n",
    "    out[np.arange(len(logits)),target] = 1\n",
    "\n",
    "    softmax = np.exp(logits) / np.exp(logits).sum(axis=-1,keepdims=True)\n",
    "\n",
    "    return (- out + softmax) / logits.shape[0]"
   ]
  },
  {
   "cell_type": "code",
   "execution_count": 44,
   "id": "345abb1c",
   "metadata": {},
   "outputs": [],
   "source": [
    "def forward(context_idxs, theta):\n",
    "    m = embeddings[context_idxs].reshape(1, -1)\n",
    "    n = linear(m, theta)\n",
    "    o = log_softmax(n)\n",
    "\n",
    "    return m, n, o"
   ]
  },
  {
   "cell_type": "code",
   "execution_count": 45,
   "id": "c4bc2568",
   "metadata": {},
   "outputs": [],
   "source": [
    "def backward(preds, theta, target_idxs):\n",
    "    m, n, o = preds\n",
    "\n",
    "    dlog = log_softmax_crossentropy_with_logits(n, target_idxs)\n",
    "    dw = m.T.dot(dlog)\n",
    "\n",
    "    return dw"
   ]
  },
  {
   "cell_type": "code",
   "execution_count": 46,
   "id": "ec09f487",
   "metadata": {},
   "outputs": [],
   "source": [
    "def optimize(theta, grad, lr=0.03):\n",
    "    theta -= grad * lr\n",
    "    return theta"
   ]
  },
  {
   "cell_type": "code",
   "execution_count": 47,
   "id": "9f3ab71f",
   "metadata": {},
   "outputs": [],
   "source": [
    "theta = np.random.uniform(-1, 1, ( context_size * embed_dim, vocab_size))"
   ]
  },
  {
   "cell_type": "code",
   "execution_count": 48,
   "id": "0f91f691",
   "metadata": {},
   "outputs": [],
   "source": [
    "epoch_losses = {}\n",
    "\n",
    "for epoch in range(80):\n",
    "\n",
    "    losses =  []\n",
    "\n",
    "    for context, target in data:\n",
    "        context_idxs = np.array([word_to_ix[w] for w in context])\n",
    "        preds = forward(context_idxs, theta)\n",
    "\n",
    "        target_idxs = np.array([word_to_ix[target]])\n",
    "        loss = NLLLoss(preds[-1], target_idxs)\n",
    "\n",
    "        losses.append(loss)\n",
    "\n",
    "        grad = backward(preds, theta, target_idxs)\n",
    "        theta = optimize(theta, grad, lr=0.03)\n",
    "\n",
    "        epoch_losses[epoch] = losses"
   ]
  },
  {
   "cell_type": "code",
   "execution_count": 49,
   "id": "1294725f",
   "metadata": {},
   "outputs": [
    {
     "data": {
      "text/plain": [
       "Text(0, 0.5, 'Losses')"
      ]
     },
     "execution_count": 49,
     "metadata": {},
     "output_type": "execute_result"
    },
    {
     "data": {
      "image/png": "[encoded data removed]",
      "text/plain": [
       "<Figure size 640x480 with 1 Axes>"
      ]
     },
     "metadata": {},
     "output_type": "display_data"
    }
   ],
   "source": [
    "import matplotlib.pyplot as plt\n",
    "ix = np.arange(0,80)\n",
    "\n",
    "fig = plt.figure()\n",
    "fig.suptitle('Epoch/Losses', fontsize=20)\n",
    "plt.plot(ix,[epoch_losses[i][0] for i in ix])\n",
    "plt.xlabel('Epochs', fontsize=12)\n",
    "plt.ylabel('Losses', fontsize=12)"
   ]
  },
  {
   "cell_type": "code",
   "execution_count": 53,
   "id": "f4de61e6",
   "metadata": {},
   "outputs": [
    {
     "data": {
      "text/plain": [
       "1.0"
      ]
     },
     "execution_count": 53,
     "metadata": {},
     "output_type": "execute_result"
    }
   ],
   "source": [
    "def accuracy():\n",
    "    wrong = 0\n",
    "\n",
    "    for context, target in data:\n",
    "        if(predict(context) != target):\n",
    "            wrong += 1\n",
    "\n",
    "    return (1 - (wrong / len(data)))\n",
    "accuracy()"
   ]
  },
  {
   "cell_type": "code",
   "execution_count": 55,
   "id": "93abf4ce",
   "metadata": {},
   "outputs": [
    {
     "data": {
      "text/plain": [
       "'is'"
      ]
     },
     "execution_count": 55,
     "metadata": {},
     "output_type": "execute_result"
    }
   ],
   "source": [
    "def predict(words):\n",
    "    context_idxs = np.array([word_to_ix[w] for w in words])\n",
    "    preds = forward(context_idxs, theta)\n",
    "    word = ix_to_word[np.argmax(preds[-1])]\n",
    "\n",
    "    return word\n",
    "predict(['the', 'game', 'best', 'of'])"
   ]
  },
  {
   "cell_type": "code",
   "execution_count": null,
   "id": "378d029b",
   "metadata": {},
   "outputs": [],
   "source": []
  }
 ],
 "metadata": {
  "kernelspec": {
   "display_name": "Python 3 (ipykernel)",
   "language": "python",
   "name": "python3"
  },
  "language_info": {
   "codemirror_mode": {
    "name": "ipython",
    "version": 3
   },
   "file_extension": ".py",
   "mimetype": "text/x-python",
   "name": "python",
   "nbconvert_exporter": "python",
   "pygments_lexer": "ipython3",
   "version": "3.10.9"
  }
 },
 "nbformat": 4,
 "nbformat_minor": 5
}
