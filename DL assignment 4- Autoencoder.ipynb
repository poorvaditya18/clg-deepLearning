{
 "cells": [
  {
   "cell_type": "code",
   "execution_count": 1,
   "id": "787733d0",
   "metadata": {},
   "outputs": [],
   "source": [
    "import keras\n",
    "from keras import layers\n",
    "\n",
    "# This is the size of our encoded representations\n",
    "encoding_dim = 32  # 32 floats -> compression of factor 24.5, assuming the input is 784 floats\n",
    "\n",
    "# This is our input image\n",
    "input_img = keras.Input(shape=(784,))\n",
    "# \"encoded\" is the encoded representation of the input\n",
    "encoded = layers.Dense(encoding_dim, activation='relu')(input_img)\n",
    "# \"decoded\" is the lossy reconstruction of the input\n",
    "decoded = layers.Dense(784, activation='sigmoid')(encoded)\n",
    "\n",
    "# This model maps an input to its reconstruction\n",
    "autoencoder = keras.Model(input_img, decoded)"
   ]
  },
  {
   "cell_type": "code",
   "execution_count": 2,
   "id": "6cd24006",
   "metadata": {},
   "outputs": [],
   "source": [
    "# This model maps an input to its encoded representation\n",
    "encoder = keras.Model(input_img, encoded)\n"
   ]
  },
  {
   "cell_type": "code",
   "execution_count": 3,
   "id": "3194c0a1",
   "metadata": {},
   "outputs": [],
   "source": [
    "# This is our encoded (32-dimensional) input\n",
    "encoded_input = keras.Input(shape=(encoding_dim,))\n",
    "# Retrieve the last layer of the autoencoder model\n",
    "decoder_layer = autoencoder.layers[-1]\n",
    "# Create the decoder model\n",
    "decoder = keras.Model(encoded_input, decoder_layer(encoded_input))"
   ]
  },
  {
   "cell_type": "code",
   "execution_count": 4,
   "id": "91fcfcda",
   "metadata": {},
   "outputs": [],
   "source": [
    "autoencoder.compile(optimizer='adam', loss='binary_crossentropy')"
   ]
  },
  {
   "cell_type": "code",
   "execution_count": 5,
   "id": "9bd6c3f4",
   "metadata": {},
   "outputs": [],
   "source": [
    "from keras.datasets import mnist\n",
    "import numpy as np\n",
    "(x_train, _), (x_test, _) = mnist.load_data()"
   ]
  },
  {
   "cell_type": "code",
   "execution_count": 6,
   "id": "6838c6a4",
   "metadata": {},
   "outputs": [
    {
     "name": "stdout",
     "output_type": "stream",
     "text": [
      "(60000, 784)\n",
      "(10000, 784)\n"
     ]
    }
   ],
   "source": [
    "x_train = x_train.astype('float32') / 255.\n",
    "x_test = x_test.astype('float32') / 255.\n",
    "x_train = x_train.reshape((len(x_train), np.prod(x_train.shape[1:])))\n",
    "x_test = x_test.reshape((len(x_test), np.prod(x_test.shape[1:])))\n",
    "print(x_train.shape)\n",
    "print(x_test.shape)"
   ]
  },
  {
   "cell_type": "code",
   "execution_count": 7,
   "id": "754c7987",
   "metadata": {},
   "outputs": [
    {
     "name": "stdout",
     "output_type": "stream",
     "text": [
      "Epoch 1/50\n",
      "235/235 [==============================] - 6s 17ms/step - loss: 0.2761 - val_loss: 0.1921\n",
      "Epoch 2/50\n",
      "235/235 [==============================] - 3s 12ms/step - loss: 0.1724 - val_loss: 0.1542\n",
      "Epoch 3/50\n",
      "235/235 [==============================] - 3s 14ms/step - loss: 0.1447 - val_loss: 0.1339\n",
      "Epoch 4/50\n",
      "235/235 [==============================] - 3s 14ms/step - loss: 0.1285 - val_loss: 0.1215\n",
      "Epoch 5/50\n",
      "235/235 [==============================] - 3s 11ms/step - loss: 0.1183 - val_loss: 0.1129\n",
      "Epoch 6/50\n",
      "235/235 [==============================] - 3s 11ms/step - loss: 0.1112 - val_loss: 0.1071\n",
      "Epoch 7/50\n",
      "235/235 [==============================] - 3s 11ms/step - loss: 0.1061 - val_loss: 0.1028\n",
      "Epoch 8/50\n",
      "235/235 [==============================] - 2s 10ms/step - loss: 0.1024 - val_loss: 0.0997\n",
      "Epoch 9/50\n",
      "235/235 [==============================] - 2s 10ms/step - loss: 0.0997 - val_loss: 0.0975\n",
      "Epoch 10/50\n",
      "235/235 [==============================] - 2s 10ms/step - loss: 0.0978 - val_loss: 0.0959\n",
      "Epoch 11/50\n",
      "235/235 [==============================] - 2s 10ms/step - loss: 0.0965 - val_loss: 0.0948\n",
      "Epoch 12/50\n",
      "235/235 [==============================] - 2s 10ms/step - loss: 0.0957 - val_loss: 0.0941\n",
      "Epoch 13/50\n",
      "235/235 [==============================] - 2s 9ms/step - loss: 0.0951 - val_loss: 0.0936\n",
      "Epoch 14/50\n",
      "235/235 [==============================] - 2s 9ms/step - loss: 0.0947 - val_loss: 0.0934\n",
      "Epoch 15/50\n",
      "235/235 [==============================] - 2s 9ms/step - loss: 0.0944 - val_loss: 0.0931\n",
      "Epoch 16/50\n",
      "235/235 [==============================] - 2s 9ms/step - loss: 0.0942 - val_loss: 0.0929\n",
      "Epoch 17/50\n",
      "235/235 [==============================] - 2s 9ms/step - loss: 0.0941 - val_loss: 0.0928\n",
      "Epoch 18/50\n",
      "235/235 [==============================] - 2s 9ms/step - loss: 0.0939 - val_loss: 0.0926\n",
      "Epoch 19/50\n",
      "235/235 [==============================] - 2s 9ms/step - loss: 0.0938 - val_loss: 0.0925\n",
      "Epoch 20/50\n",
      "235/235 [==============================] - 2s 9ms/step - loss: 0.0937 - val_loss: 0.0924\n",
      "Epoch 21/50\n",
      "235/235 [==============================] - 2s 9ms/step - loss: 0.0936 - val_loss: 0.0924\n",
      "Epoch 22/50\n",
      "235/235 [==============================] - 2s 10ms/step - loss: 0.0935 - val_loss: 0.0923\n",
      "Epoch 23/50\n",
      "235/235 [==============================] - 2s 9ms/step - loss: 0.0935 - val_loss: 0.0922\n",
      "Epoch 24/50\n",
      "235/235 [==============================] - 2s 9ms/step - loss: 0.0934 - val_loss: 0.0922\n",
      "Epoch 25/50\n",
      "235/235 [==============================] - 2s 10ms/step - loss: 0.0933 - val_loss: 0.0923\n",
      "Epoch 26/50\n",
      "235/235 [==============================] - 2s 10ms/step - loss: 0.0933 - val_loss: 0.0921\n",
      "Epoch 27/50\n",
      "235/235 [==============================] - 2s 9ms/step - loss: 0.0933 - val_loss: 0.0920\n",
      "Epoch 28/50\n",
      "235/235 [==============================] - 2s 9ms/step - loss: 0.0932 - val_loss: 0.0920\n",
      "Epoch 29/50\n",
      "235/235 [==============================] - 2s 10ms/step - loss: 0.0932 - val_loss: 0.0920\n",
      "Epoch 30/50\n",
      "235/235 [==============================] - 2s 9ms/step - loss: 0.0932 - val_loss: 0.0920\n",
      "Epoch 31/50\n",
      "235/235 [==============================] - 2s 9ms/step - loss: 0.0931 - val_loss: 0.0919\n",
      "Epoch 32/50\n",
      "235/235 [==============================] - 2s 9ms/step - loss: 0.0931 - val_loss: 0.0918\n",
      "Epoch 33/50\n",
      "235/235 [==============================] - 2s 9ms/step - loss: 0.0931 - val_loss: 0.0919\n",
      "Epoch 34/50\n",
      "235/235 [==============================] - 2s 9ms/step - loss: 0.0930 - val_loss: 0.0919\n",
      "Epoch 35/50\n",
      "235/235 [==============================] - 2s 9ms/step - loss: 0.0930 - val_loss: 0.0919\n",
      "Epoch 36/50\n",
      "235/235 [==============================] - 2s 9ms/step - loss: 0.0930 - val_loss: 0.0919\n",
      "Epoch 37/50\n",
      "235/235 [==============================] - 2s 9ms/step - loss: 0.0930 - val_loss: 0.0917\n",
      "Epoch 38/50\n",
      "235/235 [==============================] - 2s 9ms/step - loss: 0.0929 - val_loss: 0.0918\n",
      "Epoch 39/50\n",
      "235/235 [==============================] - 2s 9ms/step - loss: 0.0930 - val_loss: 0.0919\n",
      "Epoch 40/50\n",
      "235/235 [==============================] - 2s 9ms/step - loss: 0.0929 - val_loss: 0.0917\n",
      "Epoch 41/50\n",
      "235/235 [==============================] - 2s 10ms/step - loss: 0.0929 - val_loss: 0.0918\n",
      "Epoch 42/50\n",
      "235/235 [==============================] - 2s 9ms/step - loss: 0.0929 - val_loss: 0.0918\n",
      "Epoch 43/50\n",
      "235/235 [==============================] - 2s 9ms/step - loss: 0.0929 - val_loss: 0.0918\n",
      "Epoch 44/50\n",
      "235/235 [==============================] - 2s 9ms/step - loss: 0.0929 - val_loss: 0.0917\n",
      "Epoch 45/50\n",
      "235/235 [==============================] - 2s 9ms/step - loss: 0.0928 - val_loss: 0.0918\n",
      "Epoch 46/50\n",
      "235/235 [==============================] - 2s 10ms/step - loss: 0.0928 - val_loss: 0.0916\n",
      "Epoch 47/50\n",
      "235/235 [==============================] - 2s 9ms/step - loss: 0.0928 - val_loss: 0.0917\n",
      "Epoch 48/50\n",
      "235/235 [==============================] - 2s 10ms/step - loss: 0.0928 - val_loss: 0.0916\n",
      "Epoch 49/50\n",
      "235/235 [==============================] - 2s 10ms/step - loss: 0.0928 - val_loss: 0.0917\n",
      "Epoch 50/50\n",
      "235/235 [==============================] - 3s 12ms/step - loss: 0.0928 - val_loss: 0.0917\n"
     ]
    },
    {
     "data": {
      "text/plain": [
       "<keras.src.callbacks.History at 0x255ee1b4e90>"
      ]
     },
     "execution_count": 7,
     "metadata": {},
     "output_type": "execute_result"
    }
   ],
   "source": [
    "autoencoder.fit(x_train, x_train,\n",
    "                epochs=50,\n",
    "                batch_size=256,\n",
    "                shuffle=True,\n",
    "                validation_data=(x_test, x_test))"
   ]
  },
  {
   "cell_type": "code",
   "execution_count": 8,
   "id": "62f1f02e",
   "metadata": {},
   "outputs": [
    {
     "name": "stdout",
     "output_type": "stream",
     "text": [
      "313/313 [==============================] - 1s 3ms/step\n",
      "313/313 [==============================] - 1s 3ms/step\n"
     ]
    }
   ],
   "source": [
    "# Encode and decode some digits\n",
    "# Note that we take them from the *test* set\n",
    "encoded_imgs = encoder.predict(x_test)\n",
    "decoded_imgs = decoder.predict(encoded_imgs)"
   ]
  },
  {
   "cell_type": "code",
   "execution_count": 9,
   "id": "9d503aec",
   "metadata": {},
   "outputs": [
    {
     "data": {
      "image/png": "[encoded data removed]",
      "text/plain": [
       "<Figure size 2000x400 with 20 Axes>"
      ]
     },
     "metadata": {},
     "output_type": "display_data"
    }
   ],
   "source": [
    "# Use Matplotlib (don't ask)\n",
    "import matplotlib.pyplot as plt\n",
    "\n",
    "n = 10  # How many digits we will display\n",
    "plt.figure(figsize=(20, 4))\n",
    "for i in range(n):\n",
    "    # Display original\n",
    "    ax = plt.subplot(2, n, i + 1)\n",
    "    plt.imshow(x_test[i].reshape(28, 28))\n",
    "    plt.gray()\n",
    "    ax.get_xaxis().set_visible(False)\n",
    "    ax.get_yaxis().set_visible(False)\n",
    "\n",
    "    # Display reconstruction\n",
    "    ax = plt.subplot(2, n, i + 1 + n)\n",
    "    plt.imshow(decoded_imgs[i].reshape(28, 28))\n",
    "    plt.gray()\n",
    "    ax.get_xaxis().set_visible(False)\n",
    "    ax.get_yaxis().set_visible(False)\n",
    "plt.show()"
   ]
  },
  {
   "cell_type": "code",
   "execution_count": null,
   "id": "86862507",
   "metadata": {},
   "outputs": [],
   "source": []
  }
 ],
 "metadata": {
  "kernelspec": {
   "display_name": "Python 3 (ipykernel)",
   "language": "python",
   "name": "python3"
  },
  "language_info": {
   "codemirror_mode": {
    "name": "ipython",
    "version": 3
   },
   "file_extension": ".py",
   "mimetype": "text/x-python",
   "name": "python",
   "nbconvert_exporter": "python",
   "pygments_lexer": "ipython3",
   "version": "3.11.4"
  }
 },
 "nbformat": 4,
 "nbformat_minor": 5
}
